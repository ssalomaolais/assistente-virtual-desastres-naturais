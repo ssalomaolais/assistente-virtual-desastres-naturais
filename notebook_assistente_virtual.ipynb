{
  "nbformat": 4,
  "nbformat_minor": 0,
  "metadata": {
    "colab": {
      "provenance": []
    },
    "kernelspec": {
      "name": "python3",
      "display_name": "Python 3"
    },
    "language_info": {
      "name": "python"
    }
  },
  "cells": [
    {
      "cell_type": "markdown",
      "source": [
        "# ROLEPLAY DESASTRE"
      ],
      "metadata": {
        "id": "pRqF7a74-cx9"
      }
    },
    {
      "cell_type": "code",
      "execution_count": null,
      "metadata": {
        "colab": {
          "base_uri": "https://localhost:8080/",
          "height": 1000
        },
        "id": "Jwsd9dBB9NkN",
        "outputId": "6a6a40e4-c300-4e2d-a6d0-e511ac55b9ce"
      },
      "outputs": [
        {
          "output_type": "stream",
          "name": "stdout",
          "text": [
            "Modelo Gemini configurado com sucesso!\n",
            "\n",
            "--- TESTANDO PERFIL 1: VÍTIMA DIRETA ---\n"
          ]
        },
        {
          "output_type": "display_data",
          "data": {
            "text/plain": [
              "<IPython.core.display.Markdown object>"
            ],
            "text/markdown": "> **Pergunta:** Estou preso dentro de casa com minha família, a água está subindo, o que devo fazer?"
          },
          "metadata": {}
        },
        {
          "output_type": "display_data",
          "data": {
            "text/plain": [
              "<IPython.core.display.Markdown object>"
            ],
            "text/markdown": "> **Resposta Gerada:**"
          },
          "metadata": {}
        },
        {
          "output_type": "display_data",
          "data": {
            "text/plain": [
              "<IPython.core.display.Markdown object>"
            ],
            "text/markdown": "> Olá. Mantenha a calma.  A inundação é uma situação séria, mas vamos trabalhar juntos para sair disso. Siga estas instruções cuidadosamente:\n> \n> **1. Segurança em Primeiro Lugar:**\n> \n> * **Movimente-se para o andar superior:** Se possível, mova-se para o andar de cima da sua casa.  Se não houver um andar superior, procure o ponto mais alto e seguro dentro da casa, longe de janelas.\n> * **Desligue a eletricidade:** Se a água estiver próxima dos pontos elétricos ou você sentir qualquer risco de choque, desligue a eletricidade na caixa de luz principal. **NUNCA** entre em contato com água e eletricidade ao mesmo tempo.\n> * **Ligue para os serviços de emergência:** Ligue para o número de emergência da sua região (ex: 193 ou 199) e informe a sua localização e situação.  Diga quantos adultos e crianças estão com você.\n> \n> **2. Proteja-se:**\n> \n> * **Suba em um móvel alto:** Se a água começar a entrar no andar de cima, procure por um móvel alto e resistente, como uma mesa ou cama, para se proteger.\n> * **Proteja-se do frio:** Se a água estiver fria, procure por cobertores ou roupas quentes para se proteger da hipotermia.\n> * **Mantenha-se hidratado:** Se tiver água potável, beba com moderação.\n> \n> **3. Aguarde o Resgate:**\n> \n> * **Mantenha-se visível:** Se possível, use uma lanterna ou acenda uma luz para sinalizar sua localização para os resgatadores.\n> * **Evite abrir portas e janelas:** A menos que seja absolutamente necessário para a sua segurança ou para o resgate, não abra portas e janelas.\n> * **Não entre na água:** Aguarde os serviços de emergência.  Entrar na água da inundação é extremamente perigoso.\n> * **Mantenha a calma e conforte sua família:** Dê o seu melhor para manter a calma e tranquilizar sua família.  A situação é assustadora, mas a calma ajuda a superar esse momento.\n> \n> **Após o resgate:**\n> \n> * **Siga as orientações das autoridades:** Após o resgate, siga as instruções das autoridades locais sobre onde ir e como proceder.\n> \n> \n> Lembre-se: a prioridade é a segurança da sua família. Siga essas instruções e aguarde o resgate.  Você está seguro e tudo ficará bem.\n"
          },
          "metadata": {}
        },
        {
          "output_type": "stream",
          "name": "stdout",
          "text": [
            "\n",
            "--- TESTANDO PERFIL 2: MORADOR DA REGIÃO ---\n"
          ]
        },
        {
          "output_type": "display_data",
          "data": {
            "text/plain": [
              "<IPython.core.display.Markdown object>"
            ],
            "text/markdown": "> **Pergunta:** Sou morador da cidade X, como me preparo para uma possível evacuação?"
          },
          "metadata": {}
        },
        {
          "output_type": "display_data",
          "data": {
            "text/plain": [
              "<IPython.core.display.Markdown object>"
            ],
            "text/markdown": "> **Resposta Gerada:**"
          },
          "metadata": {}
        },
        {
          "output_type": "display_data",
          "data": {
            "text/plain": [
              "<IPython.core.display.Markdown object>"
            ],
            "text/markdown": "> Olá!  Sou um assistente virtual da Defesa Civil e estou aqui para ajudar você a se preparar para uma possível evacuação em Cidade X.  A preparação antecipada é crucial para sua segurança.  Segue uma lista de ações preventivas, organizadas por categoria:\n> \n> **I. Planejamento e Comunicação:**\n> \n> * **Plano Familiar de Emergência:**  Reúna sua família e crie um plano detalhado, incluindo pontos de encontro dentro e fora de casa (em caso de incêndio, por exemplo, e em caso de necessidade de evacuação da cidade).  Determine rotas de fuga alternativas e defina um local de encontro fora da cidade, em caso de evacuação obrigatória.  Escolha um contato fora da cidade para ser informado sobre sua situação.\n> * **Comunicação:**  Certifique-se de ter múltiplas formas de comunicação (rádio com pilhas, telefone celular carregado, sirene comunitária - se disponível em sua região).  Anote os números de telefone importantes (Defesa Civil, Corpo de Bombeiros, Polícia, familiares e amigos).\n> * **Alarmes:**  Familiarize-se com os sistemas de alerta de emergência da sua cidade (sirenes, aplicativos de celular, rádio). Saiba interpretar os sinais e como agir em cada situação.\n> \n> **II. Kit de Emergência:**\n> \n> * **Mochila de Emergência (para cada membro da família):**  Contendo água (pelo menos 1 galão por pessoa por dia, por 3 dias), alimentos não perecíveis (barras de cereais, frutas secas, etc.), kit de primeiros socorros, lanterna com pilhas extras, rádios portáteis com pilhas, cópia dos documentos importantes (RG, CPF, certidão de nascimento, comprovantes de endereço, seguros), dinheiro em espécie, medicamentos de uso contínuo (se houver), roupas e calçados adequados ao clima, cobertores, itens de higiene pessoal e repelente de insetos.\n> * **Documentos Importantes:** Mantenha cópias digitais e físicas de todos os documentos importantes em um local seguro e de fácil acesso. Considere um cofre ou um local fora de casa.\n> * **Veículo:** Mantenha o tanque de combustível sempre com, no mínimo, ½ de sua capacidade.\n> \n> \n> **III. Preparação da Casa:**\n> \n> * **Identificação da Casa:**  Identifique sua casa de forma clara e visível para facilitar a localização em caso de evacuação.\n> * **Rotas de Fuga:**  Identifique e mantenha livres as rotas de fuga da sua casa, incluindo saídas de emergência.\n> * **Segurança:**  Revise a segurança da sua casa: trancas, alarmes, etc.\n> \n> **IV. Ações Específicas para Cidade X:**\n> \n> * **Ameaças Específicas:**  Informe-se sobre os tipos de desastres mais comuns em Cidade X (enchentes, incêndios, terremotos, etc.) e adapte seu plano de emergência a essas ameaças.  Consulte o site da Defesa Civil de Cidade X para obter informações específicas sobre alertas e procedimentos de evacuação.\n> * **Pontos de Encontro:** Verifique os locais oficiais de abrigo e encontro designados pela Defesa Civil de Cidade X.  Planejando sua rota para esses locais em antecipação.\n> \n> \n> **V.  Ações Após a Evacuação:**\n> \n> * **Comunicação:** Informe o seu contato de emergência que você saiu de casa e para onde foi.\n> * **Segurança:**  Mantenha-se atualizado sobre a situação através de fontes oficiais.  Não retorne a sua casa até que as autoridades deem o sinal verde.\n> \n> \n> Lembre-se:  Esta lista é um guia. Adapte-a às suas necessidades e circunstâncias específicas.  Pratique seu plano de emergência regularmente com sua família para garantir que todos saibam o que fazer em caso de necessidade.  Para informações mais detalhadas e atualizadas sobre Cidade X, consulte o site da Defesa Civil local.  Fique seguro!\n"
          },
          "metadata": {}
        },
        {
          "output_type": "stream",
          "name": "stdout",
          "text": [
            "\n",
            "--- TESTANDO PERFIL 3: FAMILIAR DA VÍTIMA ---\n"
          ]
        },
        {
          "output_type": "display_data",
          "data": {
            "text/plain": [
              "<IPython.core.display.Markdown object>"
            ],
            "text/markdown": "> **Pergunta:** Minha irmã está desaparecida após o terremoto, como posso tentar localizá-la?"
          },
          "metadata": {}
        },
        {
          "output_type": "display_data",
          "data": {
            "text/plain": [
              "<IPython.core.display.Markdown object>"
            ],
            "text/markdown": "> **Resposta Gerada:**"
          },
          "metadata": {}
        },
        {
          "output_type": "display_data",
          "data": {
            "text/plain": [
              "<IPython.core.display.Markdown object>"
            ],
            "text/markdown": "> Sinto muito pelo que você está passando.  A situação de um ente querido desaparecido após um terremoto é extremamente angustiante, e quero que saiba que você não está sozinho(a) nesse momento difícil.  Muitas pessoas estão enfrentando a mesma situação, e há recursos disponíveis para ajudar na busca.  Vamos trabalhar juntos para encontrar sua irmã.\n> \n> Primeiro, é crucial manter a calma, tanto quanto possível, para poder pensar com clareza. A adrenalina e o pânico podem prejudicar o processo de busca. Respirar fundo e tentar se manter focado(a) nos passos seguintes é fundamental.\n> \n> Aqui estão alguns passos concretos que você pode tomar imediatamente:\n> \n> **1. Notificar as autoridades:**\n> \n> * **Entre em contato com a polícia local e os bombeiros:** Informe-os sobre o desaparecimento de sua irmã, fornecendo o máximo de detalhes possível: nome completo, data de nascimento, descrição física, últimas roupas usadas, fotos recentes, endereço conhecido antes do terremoto e qualquer outra informação relevante.  Eles são o ponto de partida crucial para a busca oficial.\n> * **Registre o desaparecimento:**  Peça um número de registro e anote todas as informações fornecidas às autoridades.\n> * **Consulte a Defesa Civil ou órgãos similares:** Eles podem ter informações sobre abrigos, hospitais de campanha e locais de atendimento a desabrigados onde sua irmã pode estar.\n> \n> **2. Mobilize sua rede de apoio:**\n> \n> * **Contacte familiares e amigos:** Informe a todos sobre o desaparecimento de sua irmã e peça ajuda na divulgação de sua foto e informações.  Alguém pode ter notícias dela que você ainda não tem.\n> * **Utilize as redes sociais:** Compartilhe fotos e informações sobre sua irmã em suas redes sociais, incluindo grupos locais de apoio e páginas de notícias relacionadas ao desastre.  Peça para seus contatos compartilharem também.  Use hashtags relevantes, como #desaparecido[localidade] #terremoto[localidade].\n> \n> **3. Procura física (com segurança):**\n> \n> * **Se estiver seguro(a) e as autoridades permitirem**, procure por sua irmã em hospitais, abrigos e centros de ajuda próximos à área onde ela estava antes do terremoto.  **Priorize sua segurança**: evite áreas de risco e siga as instruções das autoridades.\n> * **Procure em locais onde ela costumava frequentar:** Se você souber os lugares que ela gostava de ir, verifique se ela está lá.\n> \n> **4. Coleta de informações:**\n> \n> * **Verifique mensagens e redes sociais:**  Verifique as redes sociais e mensagens de sua irmã para ver se há alguma pista sobre sua localização.\n> * **Contacte os vizinhos e conhecidos:**  Eles podem fornecer informações importantes sobre seus últimos contatos ou movimentos.\n> \n> \n> **5. Cuide de si mesmo(a):**\n> \n> * **Busque apoio emocional:**  Este é um momento extremamente difícil.  Procure apoio em amigos, familiares, grupos de apoio ou profissionais de saúde mental.  Não hesite em pedir ajuda.\n> * **Cuide da sua saúde física:**  Certifique-se de comer, beber água e dormir o suficiente. O estresse físico pode dificultar o raciocínio e a busca.\n> \n> Lembre-se, a esperança é importante.  Manter-se ativo(a) na busca e conectado(a) às autoridades aumenta as chances de encontrar sua irmã.  Eu estarei aqui para te ajudar durante todo o processo, e posso te auxiliar com mais informações se precisar.  Não hesite em me contatar novamente.  Você é forte, e vai conseguir superar isso.\n"
          },
          "metadata": {}
        }
      ],
      "source": [
        "# -*- coding: utf-8 -*-\n",
        "import google.generativeai as genai\n",
        "from google.colab import userdata\n",
        "import textwrap\n",
        "from IPython.display import display, Markdown\n",
        "\n",
        "def to_markdown(text):\n",
        "    text = text.replace('•', '  *')\n",
        "    return Markdown(textwrap.indent(text, '> ', predicate=lambda _: True))\n",
        "\n",
        "try:\n",
        "    API_KEY = userdata.get('GEMINI_API_KEY')\n",
        "    genai.configure(api_key=API_KEY)\n",
        "except userdata.SecretNotFoundError as e:\n",
        "    print(\"API Key não encontrada. Por favor, configure o segredo 'GEMINI_API_KEY' no Google Colab.\")\n",
        "    raise SystemExit(\"API Key não configurada.\")\n",
        "\n",
        "model = genai.GenerativeModel('gemini-1.5-flash')\n",
        "print(\"Modelo Gemini configurado com sucesso!\")\n",
        "\n",
        "pergunta_vitima = \"Estou preso dentro de casa com minha família, a água está subindo, o que devo fazer?\"\n",
        "\n",
        "prompt_vitima = f\"\"\"\n",
        "Assuma o papel de um especialista em resposta a desastres da Defesa Civil.\n",
        "Sua resposta deve ser calma, clara e fornecer instruções passo a passo.\n",
        "Seja direto e use linguagem simples.\n",
        "\n",
        "Pergunta do usuário: \"{pergunta_vitima}\"\n",
        "\"\"\"\n",
        "\n",
        "print(\"\\n--- TESTANDO PERFIL 1: VÍTIMA DIRETA ---\")\n",
        "response_vitima = model.generate_content(prompt_vitima)\n",
        "\n",
        "display(to_markdown(f\"**Pergunta:** {pergunta_vitima}\"))\n",
        "display(to_markdown(\"**Resposta Gerada:**\"))\n",
        "display(to_markdown(response_vitima.text))\n",
        "\n",
        "pergunta_morador = \"Sou morador da cidade X, como me preparo para uma possível evacuação?\"\n",
        "\n",
        "prompt_morador = f\"\"\"\n",
        "Você é um assistente virtual da Defesa Civil, especializado em preparação para desastres.\n",
        "Forneça uma lista de ações preventivas claras e organizadas para um morador que\n",
        "pode precisar evacuar sua casa.\n",
        "\n",
        "Pergunta do usuário: \"{pergunta_morador}\"\n",
        "\"\"\"\n",
        "\n",
        "print(\"\\n--- TESTANDO PERFIL 2: MORADOR DA REGIÃO ---\")\n",
        "response_morador = model.generate_content(prompt_morador)\n",
        "\n",
        "display(to_markdown(f\"**Pergunta:** {pergunta_morador}\"))\n",
        "display(to_markdown(\"**Resposta Gerada:**\"))\n",
        "display(to_markdown(response_morador.text))\n",
        "\n",
        "pergunta_familiar = \"Minha irmã está desaparecida após o terremoto, como posso tentar localizá-la?\"\n",
        "\n",
        "prompt_familiar = f\"\"\"\n",
        "Atue como um conselheiro de apoio a famílias em situações de desastre.\n",
        "Sua resposta deve ser empática, tranquilizadora e informativa, fornecendo os\n",
        "próximos passos concretos que uma pessoa pode tomar para localizar alguém desaparecido.\n",
        "\n",
        "Pergunta do usuário: \"{pergunta_familiar}\"\n",
        "\"\"\"\n",
        "\n",
        "print(\"\\n--- TESTANDO PERFIL 3: FAMILIAR DA VÍTIMA ---\")\n",
        "response_familiar = model.generate_content(prompt_familiar)\n",
        "\n",
        "display(to_markdown(f\"**Pergunta:** {pergunta_familiar}\"))\n",
        "display(to_markdown(\"**Resposta Gerada:**\"))\n",
        "display(to_markdown(response_familiar.text))"
      ]
    }
  ]
}